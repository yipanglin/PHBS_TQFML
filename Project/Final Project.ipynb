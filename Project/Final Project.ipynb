{
 "cells": [
  {
   "cell_type": "code",
   "execution_count": 1,
   "metadata": {},
   "outputs": [],
   "source": [
    "# Import the libraries\n",
    "import numpy as np\n",
    "import pandas as pd\n",
    "import matplotlib.pyplot as plt"
   ]
  },
  {
   "cell_type": "markdown",
   "metadata": {},
   "source": [
    "# Import Dataset and Data Cleaning"
   ]
  },
  {
   "cell_type": "code",
   "execution_count": 2,
   "metadata": {},
   "outputs": [],
   "source": [
    "# Import Seasons_Stats.csv\n",
    "players = pd.read_csv('Seasons_Stats.csv',sep=',')"
   ]
  },
  {
   "cell_type": "code",
   "execution_count": 3,
   "metadata": {},
   "outputs": [
    {
     "name": "stdout",
     "output_type": "stream",
     "text": [
      "<class 'pandas.core.frame.DataFrame'>\n",
      "RangeIndex: 24624 entries, 0 to 24623\n",
      "Data columns (total 56 columns):\n",
      "Num          24624 non-null int64\n",
      "Season       24624 non-null int64\n",
      "Player       24624 non-null object\n",
      "Pos          24624 non-null object\n",
      "Age          24616 non-null float64\n",
      "Tm           24624 non-null object\n",
      "G            24624 non-null int64\n",
      "GS           18233 non-null float64\n",
      "MP           24138 non-null float64\n",
      "PER          24101 non-null float64\n",
      "TS%          24538 non-null float64\n",
      "3PAr         18839 non-null float64\n",
      "FTr          24525 non-null float64\n",
      "ORB%         20792 non-null float64\n",
      "DRB%         20792 non-null float64\n",
      "TRB%         21571 non-null float64\n",
      "AST%         22555 non-null float64\n",
      "STL%         20792 non-null float64\n",
      "BLK%         20792 non-null float64\n",
      "TOV%         19582 non-null float64\n",
      "USG%         19640 non-null float64\n",
      "blanl        0 non-null float64\n",
      "OWS          24585 non-null float64\n",
      "DWS          24585 non-null float64\n",
      "WS           24585 non-null float64\n",
      "WS/48        24101 non-null float64\n",
      "blank2       0 non-null float64\n",
      "OBPM         20797 non-null float64\n",
      "DBPM         20797 non-null float64\n",
      "BPM          20797 non-null float64\n",
      "VORP         20797 non-null float64\n",
      "FG           24624 non-null int64\n",
      "FGA          24624 non-null int64\n",
      "FG%          24525 non-null float64\n",
      "3P           18927 non-null float64\n",
      "3PA          18927 non-null float64\n",
      "3P%          15416 non-null float64\n",
      "2P           24624 non-null int64\n",
      "2PA          24624 non-null int64\n",
      "2P%          24496 non-null float64\n",
      "eFG%         24525 non-null float64\n",
      "FT           24624 non-null int64\n",
      "FTA          24624 non-null int64\n",
      "FT%          23766 non-null float64\n",
      "ORB          20797 non-null float64\n",
      "DRB          20797 non-null float64\n",
      "TRB          24312 non-null float64\n",
      "AST          24624 non-null int64\n",
      "STL          20797 non-null float64\n",
      "BLK          20797 non-null float64\n",
      "TOV          19645 non-null float64\n",
      "PF           24624 non-null int64\n",
      "PTS          24624 non-null int64\n",
      "VoteWon      24624 non-null float64\n",
      "VoteMax      24624 non-null int64\n",
      "VoteShare    24624 non-null float64\n",
      "dtypes: float64(40), int64(13), object(3)\n",
      "memory usage: 10.5+ MB\n"
     ]
    }
   ],
   "source": [
    "# Analyze information of players\n",
    "players.info()"
   ]
  },
  {
   "cell_type": "code",
   "execution_count": 4,
   "metadata": {},
   "outputs": [],
   "source": [
    "#Deduct Players before 1980-1981 season \n",
    "#Voting system is different before 1980-1981 season\n",
    "players = players.drop(players.index[:6054])"
   ]
  },
  {
   "cell_type": "code",
   "execution_count": 5,
   "metadata": {},
   "outputs": [],
   "source": [
    "#Deduct whose playing time less than 2050 Minutes, as well as 25 mins per game\n",
    "#Do not care players with too low playing time\n",
    "players = players[(players['MP'] > 2050)]\n",
    "players.reset_index(inplace=True, drop=True)"
   ]
  },
  {
   "cell_type": "code",
   "execution_count": 6,
   "metadata": {},
   "outputs": [
    {
     "data": {
      "text/plain": [
       "Num          0.000000\n",
       "Season       0.000000\n",
       "Player       0.000000\n",
       "Pos          0.000000\n",
       "Age          0.000000\n",
       "Tm           0.000000\n",
       "G            0.000000\n",
       "GS           0.024191\n",
       "MP           0.000000\n",
       "PER          0.000000\n",
       "TS%          0.000000\n",
       "3PAr         0.000000\n",
       "FTr          0.000000\n",
       "ORB%         0.000000\n",
       "DRB%         0.000000\n",
       "TRB%         0.000000\n",
       "AST%         0.000000\n",
       "STL%         0.000000\n",
       "BLK%         0.000000\n",
       "TOV%         0.000000\n",
       "USG%         0.000000\n",
       "blanl        1.000000\n",
       "OWS          0.000000\n",
       "DWS          0.000000\n",
       "WS           0.000000\n",
       "WS/48        0.000000\n",
       "blank2       1.000000\n",
       "OBPM         0.000000\n",
       "DBPM         0.000000\n",
       "BPM          0.000000\n",
       "VORP         0.000000\n",
       "FG           0.000000\n",
       "FGA          0.000000\n",
       "FG%          0.000000\n",
       "3P           0.000000\n",
       "3PA          0.000000\n",
       "3P%          0.043035\n",
       "2P           0.000000\n",
       "2PA          0.000000\n",
       "2P%          0.000000\n",
       "eFG%         0.000000\n",
       "FT           0.000000\n",
       "FTA          0.000000\n",
       "FT%          0.000000\n",
       "ORB          0.000000\n",
       "DRB          0.000000\n",
       "TRB          0.000000\n",
       "AST          0.000000\n",
       "STL          0.000000\n",
       "BLK          0.000000\n",
       "TOV          0.000000\n",
       "PF           0.000000\n",
       "PTS          0.000000\n",
       "VoteWon      0.000000\n",
       "VoteMax      0.000000\n",
       "VoteShare    0.000000\n",
       "dtype: float64"
      ]
     },
     "execution_count": 6,
     "metadata": {},
     "output_type": "execute_result"
    }
   ],
   "source": [
    "miss_rate_players = players.isnull().sum()/len(players)\n",
    "miss_rate_players"
   ]
  },
  {
   "cell_type": "code",
   "execution_count": 7,
   "metadata": {},
   "outputs": [],
   "source": [
    "#Drop features with more than 25% missing values\n",
    "#Drop 'VoteWon' and 'VoteMax' because they can be represented by VoteShare\n",
    "#Drop 'Pos' because MVP voting does not distinguish between position of players\n",
    "#Drop 'GS' because we only care the minutes play rather than if ther were start-up\n",
    "features_missing_series = players.isnull().sum() > len(players)*0.25\n",
    "features_missing_series = features_missing_series[features_missing_series == True]\n",
    "features_missing_list =  features_missing_series.index.tolist()\n",
    "players = players.drop(features_missing_list, axis=1)\n",
    "players_clean = players.drop(['Num','Pos','VoteWon','VoteMax','GS'], axis=1)"
   ]
  },
  {
   "cell_type": "code",
   "execution_count": 8,
   "metadata": {
    "scrolled": true
   },
   "outputs": [
    {
     "data": {
      "text/html": [
       "<div>\n",
       "<style scoped>\n",
       "    .dataframe tbody tr th:only-of-type {\n",
       "        vertical-align: middle;\n",
       "    }\n",
       "\n",
       "    .dataframe tbody tr th {\n",
       "        vertical-align: top;\n",
       "    }\n",
       "\n",
       "    .dataframe thead th {\n",
       "        text-align: right;\n",
       "    }\n",
       "</style>\n",
       "<table border=\"1\" class=\"dataframe\">\n",
       "  <thead>\n",
       "    <tr style=\"text-align: right;\">\n",
       "      <th></th>\n",
       "      <th>Season</th>\n",
       "      <th>Player</th>\n",
       "      <th>Age</th>\n",
       "      <th>Tm</th>\n",
       "      <th>G</th>\n",
       "      <th>MP</th>\n",
       "      <th>PER</th>\n",
       "      <th>TS%</th>\n",
       "      <th>3PAr</th>\n",
       "      <th>FTr</th>\n",
       "      <th>...</th>\n",
       "      <th>ORB</th>\n",
       "      <th>DRB</th>\n",
       "      <th>TRB</th>\n",
       "      <th>AST</th>\n",
       "      <th>STL</th>\n",
       "      <th>BLK</th>\n",
       "      <th>TOV</th>\n",
       "      <th>PF</th>\n",
       "      <th>PTS</th>\n",
       "      <th>VoteShare</th>\n",
       "    </tr>\n",
       "  </thead>\n",
       "  <tbody>\n",
       "    <tr>\n",
       "      <th>0</th>\n",
       "      <td>1980</td>\n",
       "      <td>Kareem Abdul-Jabbar*</td>\n",
       "      <td>33.0</td>\n",
       "      <td>LAL</td>\n",
       "      <td>80</td>\n",
       "      <td>2976.0</td>\n",
       "      <td>25.5</td>\n",
       "      <td>0.616</td>\n",
       "      <td>0.001</td>\n",
       "      <td>0.379</td>\n",
       "      <td>...</td>\n",
       "      <td>197.0</td>\n",
       "      <td>624.0</td>\n",
       "      <td>821.0</td>\n",
       "      <td>272</td>\n",
       "      <td>59.0</td>\n",
       "      <td>228.0</td>\n",
       "      <td>249.0</td>\n",
       "      <td>244</td>\n",
       "      <td>2095</td>\n",
       "      <td>0.414493</td>\n",
       "    </tr>\n",
       "    <tr>\n",
       "      <th>1</th>\n",
       "      <td>1980</td>\n",
       "      <td>Alvan Adams</td>\n",
       "      <td>26.0</td>\n",
       "      <td>PHO</td>\n",
       "      <td>75</td>\n",
       "      <td>2054.0</td>\n",
       "      <td>20.3</td>\n",
       "      <td>0.567</td>\n",
       "      <td>0.000</td>\n",
       "      <td>0.298</td>\n",
       "      <td>...</td>\n",
       "      <td>157.0</td>\n",
       "      <td>389.0</td>\n",
       "      <td>546.0</td>\n",
       "      <td>344</td>\n",
       "      <td>106.0</td>\n",
       "      <td>69.0</td>\n",
       "      <td>226.0</td>\n",
       "      <td>226</td>\n",
       "      <td>1115</td>\n",
       "      <td>0.000000</td>\n",
       "    </tr>\n",
       "    <tr>\n",
       "      <th>2</th>\n",
       "      <td>1980</td>\n",
       "      <td>Tiny Archibald*</td>\n",
       "      <td>32.0</td>\n",
       "      <td>BOS</td>\n",
       "      <td>80</td>\n",
       "      <td>2820.0</td>\n",
       "      <td>14.3</td>\n",
       "      <td>0.582</td>\n",
       "      <td>0.012</td>\n",
       "      <td>0.547</td>\n",
       "      <td>...</td>\n",
       "      <td>36.0</td>\n",
       "      <td>140.0</td>\n",
       "      <td>176.0</td>\n",
       "      <td>618</td>\n",
       "      <td>75.0</td>\n",
       "      <td>18.0</td>\n",
       "      <td>265.0</td>\n",
       "      <td>201</td>\n",
       "      <td>1106</td>\n",
       "      <td>0.046377</td>\n",
       "    </tr>\n",
       "    <tr>\n",
       "      <th>3</th>\n",
       "      <td>1980</td>\n",
       "      <td>James Bailey</td>\n",
       "      <td>23.0</td>\n",
       "      <td>SEA</td>\n",
       "      <td>82</td>\n",
       "      <td>2539.0</td>\n",
       "      <td>14.5</td>\n",
       "      <td>0.546</td>\n",
       "      <td>0.002</td>\n",
       "      <td>0.406</td>\n",
       "      <td>...</td>\n",
       "      <td>192.0</td>\n",
       "      <td>415.0</td>\n",
       "      <td>607.0</td>\n",
       "      <td>98</td>\n",
       "      <td>74.0</td>\n",
       "      <td>143.0</td>\n",
       "      <td>219.0</td>\n",
       "      <td>332</td>\n",
       "      <td>1145</td>\n",
       "      <td>0.000000</td>\n",
       "    </tr>\n",
       "    <tr>\n",
       "      <th>4</th>\n",
       "      <td>1980</td>\n",
       "      <td>Greg Ballard</td>\n",
       "      <td>26.0</td>\n",
       "      <td>WSB</td>\n",
       "      <td>82</td>\n",
       "      <td>2610.0</td>\n",
       "      <td>16.7</td>\n",
       "      <td>0.500</td>\n",
       "      <td>0.027</td>\n",
       "      <td>0.165</td>\n",
       "      <td>...</td>\n",
       "      <td>167.0</td>\n",
       "      <td>413.0</td>\n",
       "      <td>580.0</td>\n",
       "      <td>195</td>\n",
       "      <td>118.0</td>\n",
       "      <td>39.0</td>\n",
       "      <td>117.0</td>\n",
       "      <td>194</td>\n",
       "      <td>1271</td>\n",
       "      <td>0.000000</td>\n",
       "    </tr>\n",
       "  </tbody>\n",
       "</table>\n",
       "<p>5 rows × 49 columns</p>\n",
       "</div>"
      ],
      "text/plain": [
       "   Season                Player   Age   Tm   G      MP   PER    TS%   3PAr  \\\n",
       "0    1980  Kareem Abdul-Jabbar*  33.0  LAL  80  2976.0  25.5  0.616  0.001   \n",
       "1    1980           Alvan Adams  26.0  PHO  75  2054.0  20.3  0.567  0.000   \n",
       "2    1980       Tiny Archibald*  32.0  BOS  80  2820.0  14.3  0.582  0.012   \n",
       "3    1980          James Bailey  23.0  SEA  82  2539.0  14.5  0.546  0.002   \n",
       "4    1980          Greg Ballard  26.0  WSB  82  2610.0  16.7  0.500  0.027   \n",
       "\n",
       "     FTr    ...        ORB    DRB    TRB  AST    STL    BLK    TOV   PF   PTS  \\\n",
       "0  0.379    ...      197.0  624.0  821.0  272   59.0  228.0  249.0  244  2095   \n",
       "1  0.298    ...      157.0  389.0  546.0  344  106.0   69.0  226.0  226  1115   \n",
       "2  0.547    ...       36.0  140.0  176.0  618   75.0   18.0  265.0  201  1106   \n",
       "3  0.406    ...      192.0  415.0  607.0   98   74.0  143.0  219.0  332  1145   \n",
       "4  0.165    ...      167.0  413.0  580.0  195  118.0   39.0  117.0  194  1271   \n",
       "\n",
       "   VoteShare  \n",
       "0   0.414493  \n",
       "1   0.000000  \n",
       "2   0.046377  \n",
       "3   0.000000  \n",
       "4   0.000000  \n",
       "\n",
       "[5 rows x 49 columns]"
      ]
     },
     "execution_count": 8,
     "metadata": {},
     "output_type": "execute_result"
    }
   ],
   "source": [
    "players_clean.head(5)"
   ]
  },
  {
   "cell_type": "code",
   "execution_count": 9,
   "metadata": {},
   "outputs": [],
   "source": [
    "#import Team_Records.csv\n",
    "team = pd.read_csv('Team_Records.csv',sep=',')"
   ]
  },
  {
   "cell_type": "code",
   "execution_count": 10,
   "metadata": {
    "scrolled": false
   },
   "outputs": [
    {
     "data": {
      "text/html": [
       "<div>\n",
       "<style scoped>\n",
       "    .dataframe tbody tr th:only-of-type {\n",
       "        vertical-align: middle;\n",
       "    }\n",
       "\n",
       "    .dataframe tbody tr th {\n",
       "        vertical-align: top;\n",
       "    }\n",
       "\n",
       "    .dataframe thead th {\n",
       "        text-align: right;\n",
       "    }\n",
       "</style>\n",
       "<table border=\"1\" class=\"dataframe\">\n",
       "  <thead>\n",
       "    <tr style=\"text-align: right;\">\n",
       "      <th></th>\n",
       "      <th>Season</th>\n",
       "      <th>Lg</th>\n",
       "      <th>Tm</th>\n",
       "      <th>W</th>\n",
       "      <th>L</th>\n",
       "      <th>W/L%</th>\n",
       "      <th>Finish</th>\n",
       "      <th>SRS</th>\n",
       "      <th>Pace</th>\n",
       "      <th>Rel_Pace</th>\n",
       "      <th>ORtg</th>\n",
       "      <th>Rel_ORtg</th>\n",
       "      <th>DRtg</th>\n",
       "      <th>Rel_DRtg</th>\n",
       "      <th>Playoffs</th>\n",
       "      <th>Coaches</th>\n",
       "      <th>Top WS</th>\n",
       "    </tr>\n",
       "  </thead>\n",
       "  <tbody>\n",
       "    <tr>\n",
       "      <th>0</th>\n",
       "      <td>2017</td>\n",
       "      <td>NBA</td>\n",
       "      <td>BOS</td>\n",
       "      <td>29</td>\n",
       "      <td>10</td>\n",
       "      <td>0.744</td>\n",
       "      <td>1</td>\n",
       "      <td>4.38</td>\n",
       "      <td>95.4</td>\n",
       "      <td>-1.7</td>\n",
       "      <td>108.0</td>\n",
       "      <td>0.2</td>\n",
       "      <td>102.8</td>\n",
       "      <td>-5.0</td>\n",
       "      <td>NaN</td>\n",
       "      <td>B. Stevens (29-10)</td>\n",
       "      <td>K. Irving?(5.7)</td>\n",
       "    </tr>\n",
       "    <tr>\n",
       "      <th>1</th>\n",
       "      <td>2016</td>\n",
       "      <td>NBA</td>\n",
       "      <td>BOS</td>\n",
       "      <td>53</td>\n",
       "      <td>29</td>\n",
       "      <td>0.646</td>\n",
       "      <td>1</td>\n",
       "      <td>2.25</td>\n",
       "      <td>96.8</td>\n",
       "      <td>0.4</td>\n",
       "      <td>111.2</td>\n",
       "      <td>2.4</td>\n",
       "      <td>108.4</td>\n",
       "      <td>-0.4</td>\n",
       "      <td>Lost E. Conf. Finals</td>\n",
       "      <td>B. Stevens (53-29)</td>\n",
       "      <td>I. Thomas?(12.5)</td>\n",
       "    </tr>\n",
       "    <tr>\n",
       "      <th>2</th>\n",
       "      <td>2015</td>\n",
       "      <td>NBA</td>\n",
       "      <td>BOS</td>\n",
       "      <td>48</td>\n",
       "      <td>34</td>\n",
       "      <td>0.585</td>\n",
       "      <td>2</td>\n",
       "      <td>2.84</td>\n",
       "      <td>98.5</td>\n",
       "      <td>2.7</td>\n",
       "      <td>106.8</td>\n",
       "      <td>0.4</td>\n",
       "      <td>103.6</td>\n",
       "      <td>-2.8</td>\n",
       "      <td>Lost E. Conf. 1st Rnd.</td>\n",
       "      <td>B. Stevens (48-34)</td>\n",
       "      <td>I. Thomas?(9.7)</td>\n",
       "    </tr>\n",
       "    <tr>\n",
       "      <th>3</th>\n",
       "      <td>2014</td>\n",
       "      <td>NBA</td>\n",
       "      <td>BOS</td>\n",
       "      <td>40</td>\n",
       "      <td>42</td>\n",
       "      <td>0.488</td>\n",
       "      <td>2</td>\n",
       "      <td>-0.40</td>\n",
       "      <td>95.8</td>\n",
       "      <td>1.9</td>\n",
       "      <td>104.7</td>\n",
       "      <td>-0.9</td>\n",
       "      <td>104.5</td>\n",
       "      <td>-1.1</td>\n",
       "      <td>Lost E. Conf. 1st Rnd.</td>\n",
       "      <td>B. Stevens (40-42)</td>\n",
       "      <td>T. Zeller?(6.5)</td>\n",
       "    </tr>\n",
       "    <tr>\n",
       "      <th>4</th>\n",
       "      <td>2013</td>\n",
       "      <td>NBA</td>\n",
       "      <td>BOS</td>\n",
       "      <td>25</td>\n",
       "      <td>57</td>\n",
       "      <td>0.305</td>\n",
       "      <td>4</td>\n",
       "      <td>-4.97</td>\n",
       "      <td>93.3</td>\n",
       "      <td>-0.6</td>\n",
       "      <td>102.9</td>\n",
       "      <td>-3.8</td>\n",
       "      <td>107.7</td>\n",
       "      <td>1.0</td>\n",
       "      <td>NaN</td>\n",
       "      <td>B. Stevens (25-57)</td>\n",
       "      <td>B. Bass?(5.1)</td>\n",
       "    </tr>\n",
       "  </tbody>\n",
       "</table>\n",
       "</div>"
      ],
      "text/plain": [
       "   Season   Lg   Tm   W   L   W/L%  Finish   SRS  Pace  Rel_Pace   ORtg  \\\n",
       "0    2017  NBA  BOS  29  10  0.744       1  4.38  95.4      -1.7  108.0   \n",
       "1    2016  NBA  BOS  53  29  0.646       1  2.25  96.8       0.4  111.2   \n",
       "2    2015  NBA  BOS  48  34  0.585       2  2.84  98.5       2.7  106.8   \n",
       "3    2014  NBA  BOS  40  42  0.488       2 -0.40  95.8       1.9  104.7   \n",
       "4    2013  NBA  BOS  25  57  0.305       4 -4.97  93.3      -0.6  102.9   \n",
       "\n",
       "   Rel_ORtg   DRtg  Rel_DRtg                Playoffs             Coaches  \\\n",
       "0       0.2  102.8      -5.0                     NaN  B. Stevens (29-10)   \n",
       "1       2.4  108.4      -0.4    Lost E. Conf. Finals  B. Stevens (53-29)   \n",
       "2       0.4  103.6      -2.8  Lost E. Conf. 1st Rnd.  B. Stevens (48-34)   \n",
       "3      -0.9  104.5      -1.1  Lost E. Conf. 1st Rnd.  B. Stevens (40-42)   \n",
       "4      -3.8  107.7       1.0                     NaN  B. Stevens (25-57)   \n",
       "\n",
       "             Top WS  \n",
       "0   K. Irving?(5.7)  \n",
       "1  I. Thomas?(12.5)  \n",
       "2   I. Thomas?(9.7)  \n",
       "3   T. Zeller?(6.5)  \n",
       "4     B. Bass?(5.1)  "
      ]
     },
     "execution_count": 10,
     "metadata": {},
     "output_type": "execute_result"
    }
   ],
   "source": [
    "team.head(5)"
   ]
  },
  {
   "cell_type": "code",
   "execution_count": 11,
   "metadata": {},
   "outputs": [],
   "source": [
    "#Drop features, we only want to know the W/L% of teams\n",
    "team_clean = team.drop(['Lg','Finish','SRS','Pace','Rel_Pace','ORtg','Rel_ORtg','DRtg','Rel_DRtg','Playoffs','Coaches','Top WS','W','L'], axis=1)"
   ]
  },
  {
   "cell_type": "code",
   "execution_count": 12,
   "metadata": {},
   "outputs": [
    {
     "data": {
      "text/html": [
       "<div>\n",
       "<style scoped>\n",
       "    .dataframe tbody tr th:only-of-type {\n",
       "        vertical-align: middle;\n",
       "    }\n",
       "\n",
       "    .dataframe tbody tr th {\n",
       "        vertical-align: top;\n",
       "    }\n",
       "\n",
       "    .dataframe thead th {\n",
       "        text-align: right;\n",
       "    }\n",
       "</style>\n",
       "<table border=\"1\" class=\"dataframe\">\n",
       "  <thead>\n",
       "    <tr style=\"text-align: right;\">\n",
       "      <th></th>\n",
       "      <th>Season</th>\n",
       "      <th>Tm</th>\n",
       "      <th>W/L%</th>\n",
       "    </tr>\n",
       "  </thead>\n",
       "  <tbody>\n",
       "    <tr>\n",
       "      <th>0</th>\n",
       "      <td>2017</td>\n",
       "      <td>BOS</td>\n",
       "      <td>0.744</td>\n",
       "    </tr>\n",
       "    <tr>\n",
       "      <th>1</th>\n",
       "      <td>2016</td>\n",
       "      <td>BOS</td>\n",
       "      <td>0.646</td>\n",
       "    </tr>\n",
       "    <tr>\n",
       "      <th>2</th>\n",
       "      <td>2015</td>\n",
       "      <td>BOS</td>\n",
       "      <td>0.585</td>\n",
       "    </tr>\n",
       "    <tr>\n",
       "      <th>3</th>\n",
       "      <td>2014</td>\n",
       "      <td>BOS</td>\n",
       "      <td>0.488</td>\n",
       "    </tr>\n",
       "    <tr>\n",
       "      <th>4</th>\n",
       "      <td>2013</td>\n",
       "      <td>BOS</td>\n",
       "      <td>0.305</td>\n",
       "    </tr>\n",
       "  </tbody>\n",
       "</table>\n",
       "</div>"
      ],
      "text/plain": [
       "   Season   Tm   W/L%\n",
       "0    2017  BOS  0.744\n",
       "1    2016  BOS  0.646\n",
       "2    2015  BOS  0.585\n",
       "3    2014  BOS  0.488\n",
       "4    2013  BOS  0.305"
      ]
     },
     "execution_count": 12,
     "metadata": {},
     "output_type": "execute_result"
    }
   ],
   "source": [
    "team_clean.head(5)"
   ]
  },
  {
   "cell_type": "code",
   "execution_count": 13,
   "metadata": {},
   "outputs": [
    {
     "data": {
      "text/plain": [
       "Season    0.0\n",
       "Tm        0.0\n",
       "W/L%      0.0\n",
       "dtype: float64"
      ]
     },
     "execution_count": 13,
     "metadata": {},
     "output_type": "execute_result"
    }
   ],
   "source": [
    "#No missing in the W/L%\n",
    "miss_rate_team = team_clean.isnull().sum()/len(team_clean)\n",
    "miss_rate_team"
   ]
  },
  {
   "cell_type": "code",
   "execution_count": 14,
   "metadata": {},
   "outputs": [],
   "source": [
    "#Combine two dataset as data_raw and set all missing data equal 0\n",
    "data_raw = pd.merge(players_clean, team_clean[['Season', 'Tm', 'W/L%']], \n",
    "                    left_on=['Season','Tm'], right_on=['Season','Tm'], right_index=False,\n",
    "      how='left', sort=False).fillna(value=0)\n",
    "data_raw.reset_index(inplace=True, drop=True)\n",
    "\n",
    "#We do not need 'Tm' feature because we have W/L% of every team\n",
    "data_raw = data_raw.drop(['Tm'], axis=1)"
   ]
  },
  {
   "cell_type": "code",
   "execution_count": 15,
   "metadata": {},
   "outputs": [
    {
     "name": "stderr",
     "output_type": "stream",
     "text": [
      "C:\\Users\\yipan\\Anaconda3\\lib\\site-packages\\ipykernel_launcher.py:10: SettingWithCopyWarning: \n",
      "A value is trying to be set on a copy of a slice from a DataFrame\n",
      "\n",
      "See the caveats in the documentation: http://pandas.pydata.org/pandas-docs/stable/indexing.html#indexing-view-versus-copy\n",
      "  # Remove the CWD from sys.path while we load stuff.\n"
     ]
    }
   ],
   "source": [
    "#Define MVPRATE,PPG,APG,3PG,RPG,FTPG,TOPG,MVP\n",
    "MVPRATE=0.6\n",
    "data_raw[\"PPG\"] = data_raw[\"PTS\"] /data_raw[\"G\"]\n",
    "data_raw[\"APG\"] = data_raw[\"AST\"] / data_raw[\"G\"]\n",
    "data_raw[\"3PG\"] = data_raw[\"3P\"] / data_raw[\"G\"]\n",
    "data_raw[\"RPG\"] = data_raw[\"TRB\"] / data_raw[\"G\"]\n",
    "data_raw[\"FTPG\"] = data_raw[\"FTA\"] / data_raw[\"G\"]\n",
    "data_raw[\"TOPG\"] = data_raw[\"TOV\"] / data_raw[\"G\"]\n",
    "data_raw[\"MVP\"] = 0\n",
    "data_raw[\"MVP\"][data_raw['VoteShare']>MVPRATE]=1\n"
   ]
  },
  {
   "cell_type": "code",
   "execution_count": 16,
   "metadata": {},
   "outputs": [
    {
     "data": {
      "text/html": [
       "<div>\n",
       "<style scoped>\n",
       "    .dataframe tbody tr th:only-of-type {\n",
       "        vertical-align: middle;\n",
       "    }\n",
       "\n",
       "    .dataframe tbody tr th {\n",
       "        vertical-align: top;\n",
       "    }\n",
       "\n",
       "    .dataframe thead th {\n",
       "        text-align: right;\n",
       "    }\n",
       "</style>\n",
       "<table border=\"1\" class=\"dataframe\">\n",
       "  <thead>\n",
       "    <tr style=\"text-align: right;\">\n",
       "      <th></th>\n",
       "      <th>Season</th>\n",
       "      <th>Player</th>\n",
       "      <th>Age</th>\n",
       "      <th>G</th>\n",
       "      <th>MP</th>\n",
       "      <th>PER</th>\n",
       "      <th>TS%</th>\n",
       "      <th>3PAr</th>\n",
       "      <th>FTr</th>\n",
       "      <th>ORB%</th>\n",
       "      <th>...</th>\n",
       "      <th>PTS</th>\n",
       "      <th>VoteShare</th>\n",
       "      <th>W/L%</th>\n",
       "      <th>PPG</th>\n",
       "      <th>APG</th>\n",
       "      <th>3PG</th>\n",
       "      <th>RPG</th>\n",
       "      <th>FTPG</th>\n",
       "      <th>TOPG</th>\n",
       "      <th>MVP</th>\n",
       "    </tr>\n",
       "  </thead>\n",
       "  <tbody>\n",
       "    <tr>\n",
       "      <th>0</th>\n",
       "      <td>1980</td>\n",
       "      <td>Kareem Abdul-Jabbar*</td>\n",
       "      <td>33.0</td>\n",
       "      <td>80</td>\n",
       "      <td>2976.0</td>\n",
       "      <td>25.5</td>\n",
       "      <td>0.616</td>\n",
       "      <td>0.001</td>\n",
       "      <td>0.379</td>\n",
       "      <td>7.6</td>\n",
       "      <td>...</td>\n",
       "      <td>2095</td>\n",
       "      <td>0.414493</td>\n",
       "      <td>0.659</td>\n",
       "      <td>26.187500</td>\n",
       "      <td>3.400000</td>\n",
       "      <td>0.000000</td>\n",
       "      <td>10.262500</td>\n",
       "      <td>6.900000</td>\n",
       "      <td>3.112500</td>\n",
       "      <td>0</td>\n",
       "    </tr>\n",
       "    <tr>\n",
       "      <th>1</th>\n",
       "      <td>1980</td>\n",
       "      <td>Alvan Adams</td>\n",
       "      <td>26.0</td>\n",
       "      <td>75</td>\n",
       "      <td>2054.0</td>\n",
       "      <td>20.3</td>\n",
       "      <td>0.567</td>\n",
       "      <td>0.000</td>\n",
       "      <td>0.298</td>\n",
       "      <td>8.6</td>\n",
       "      <td>...</td>\n",
       "      <td>1115</td>\n",
       "      <td>0.000000</td>\n",
       "      <td>0.695</td>\n",
       "      <td>14.866667</td>\n",
       "      <td>4.586667</td>\n",
       "      <td>0.000000</td>\n",
       "      <td>7.280000</td>\n",
       "      <td>3.453333</td>\n",
       "      <td>3.013333</td>\n",
       "      <td>0</td>\n",
       "    </tr>\n",
       "    <tr>\n",
       "      <th>2</th>\n",
       "      <td>1980</td>\n",
       "      <td>Tiny Archibald*</td>\n",
       "      <td>32.0</td>\n",
       "      <td>80</td>\n",
       "      <td>2820.0</td>\n",
       "      <td>14.3</td>\n",
       "      <td>0.582</td>\n",
       "      <td>0.012</td>\n",
       "      <td>0.547</td>\n",
       "      <td>1.5</td>\n",
       "      <td>...</td>\n",
       "      <td>1106</td>\n",
       "      <td>0.046377</td>\n",
       "      <td>0.756</td>\n",
       "      <td>13.825000</td>\n",
       "      <td>7.725000</td>\n",
       "      <td>0.000000</td>\n",
       "      <td>2.200000</td>\n",
       "      <td>5.237500</td>\n",
       "      <td>3.312500</td>\n",
       "      <td>0</td>\n",
       "    </tr>\n",
       "    <tr>\n",
       "      <th>3</th>\n",
       "      <td>1980</td>\n",
       "      <td>James Bailey</td>\n",
       "      <td>23.0</td>\n",
       "      <td>82</td>\n",
       "      <td>2539.0</td>\n",
       "      <td>14.5</td>\n",
       "      <td>0.546</td>\n",
       "      <td>0.002</td>\n",
       "      <td>0.406</td>\n",
       "      <td>8.5</td>\n",
       "      <td>...</td>\n",
       "      <td>1145</td>\n",
       "      <td>0.000000</td>\n",
       "      <td>0.415</td>\n",
       "      <td>13.963415</td>\n",
       "      <td>1.195122</td>\n",
       "      <td>0.012195</td>\n",
       "      <td>7.402439</td>\n",
       "      <td>4.402439</td>\n",
       "      <td>2.670732</td>\n",
       "      <td>0</td>\n",
       "    </tr>\n",
       "    <tr>\n",
       "      <th>4</th>\n",
       "      <td>1980</td>\n",
       "      <td>Greg Ballard</td>\n",
       "      <td>26.0</td>\n",
       "      <td>82</td>\n",
       "      <td>2610.0</td>\n",
       "      <td>16.7</td>\n",
       "      <td>0.500</td>\n",
       "      <td>0.027</td>\n",
       "      <td>0.165</td>\n",
       "      <td>6.7</td>\n",
       "      <td>...</td>\n",
       "      <td>1271</td>\n",
       "      <td>0.000000</td>\n",
       "      <td>0.476</td>\n",
       "      <td>15.500000</td>\n",
       "      <td>2.378049</td>\n",
       "      <td>0.085366</td>\n",
       "      <td>7.073171</td>\n",
       "      <td>2.390244</td>\n",
       "      <td>1.426829</td>\n",
       "      <td>0</td>\n",
       "    </tr>\n",
       "  </tbody>\n",
       "</table>\n",
       "<p>5 rows × 56 columns</p>\n",
       "</div>"
      ],
      "text/plain": [
       "   Season                Player   Age   G      MP   PER    TS%   3PAr    FTr  \\\n",
       "0    1980  Kareem Abdul-Jabbar*  33.0  80  2976.0  25.5  0.616  0.001  0.379   \n",
       "1    1980           Alvan Adams  26.0  75  2054.0  20.3  0.567  0.000  0.298   \n",
       "2    1980       Tiny Archibald*  32.0  80  2820.0  14.3  0.582  0.012  0.547   \n",
       "3    1980          James Bailey  23.0  82  2539.0  14.5  0.546  0.002  0.406   \n",
       "4    1980          Greg Ballard  26.0  82  2610.0  16.7  0.500  0.027  0.165   \n",
       "\n",
       "   ORB% ...    PTS  VoteShare   W/L%        PPG       APG       3PG  \\\n",
       "0   7.6 ...   2095   0.414493  0.659  26.187500  3.400000  0.000000   \n",
       "1   8.6 ...   1115   0.000000  0.695  14.866667  4.586667  0.000000   \n",
       "2   1.5 ...   1106   0.046377  0.756  13.825000  7.725000  0.000000   \n",
       "3   8.5 ...   1145   0.000000  0.415  13.963415  1.195122  0.012195   \n",
       "4   6.7 ...   1271   0.000000  0.476  15.500000  2.378049  0.085366   \n",
       "\n",
       "         RPG      FTPG      TOPG  MVP  \n",
       "0  10.262500  6.900000  3.112500    0  \n",
       "1   7.280000  3.453333  3.013333    0  \n",
       "2   2.200000  5.237500  3.312500    0  \n",
       "3   7.402439  4.402439  2.670732    0  \n",
       "4   7.073171  2.390244  1.426829    0  \n",
       "\n",
       "[5 rows x 56 columns]"
      ]
     },
     "execution_count": 16,
     "metadata": {},
     "output_type": "execute_result"
    }
   ],
   "source": [
    "#the new dataset after data cleaning and combining\n",
    "data_raw.head(5)"
   ]
  },
  {
   "cell_type": "code",
   "execution_count": 17,
   "metadata": {},
   "outputs": [
    {
     "data": {
      "text/plain": [
       "float64    43\n",
       "int64      12\n",
       "object      1\n",
       "dtype: int64"
      ]
     },
     "execution_count": 17,
     "metadata": {},
     "output_type": "execute_result"
    }
   ],
   "source": [
    "#figure the datatype of our combining dataset\n",
    "\n",
    "data_raw.dtypes.value_counts()"
   ]
  },
  {
   "cell_type": "markdown",
   "metadata": {},
   "source": [
    "# Finding Important Features"
   ]
  },
  {
   "cell_type": "code",
   "execution_count": 18,
   "metadata": {},
   "outputs": [
    {
     "data": {
      "image/png": "[encoded data removed]",
      "text/plain": [
       "<matplotlib.figure.Figure at 0x144b740df28>"
      ]
     },
     "metadata": {},
     "output_type": "display_data"
    }
   ],
   "source": [
    "#plot the correlation map between every features\n",
    "fig, ax = plt.subplots(1,1, figsize = (20,20))\n",
    "heatmap = ax.imshow(data_raw.corr(),\n",
    "                   cmap='terrain',\n",
    "                   interpolation='nearest')\n",
    "plt.xticks(range(data_raw.corr().shape[1]), data_raw.corr().columns, rotation=90)\n",
    "plt.yticks(range(data_raw.corr().shape[1]), data_raw.corr().index)\n",
    "\n",
    "plt.colorbar(heatmap, shrink=0.8);"
   ]
  },
  {
   "cell_type": "code",
   "execution_count": 19,
   "metadata": {},
   "outputs": [
    {
     "name": "stdout",
     "output_type": "stream",
     "text": [
      " 1) WS                             0.100581\n",
      " 2) VORP                           0.075795\n",
      " 3) WS/48                          0.075174\n",
      " 4) BPM                            0.056179\n",
      " 5) PER                            0.051631\n",
      " 6) W/L%                           0.051558\n",
      " 7) OWS                            0.042888\n",
      " 8) OBPM                           0.026978\n",
      " 9) PTS                            0.024890\n",
      "10) DWS                            0.018494\n",
      "11) PPG                            0.018289\n",
      "12) FG                             0.017097\n",
      "13) FGA                            0.016892\n",
      "14) AST                            0.016360\n",
      "15) APG                            0.015732\n",
      "16) AST%                           0.014457\n",
      "17) 2PA                            0.013941\n",
      "18) DBPM                           0.013653\n",
      "19) USG%                           0.013251\n",
      "20) TOPG                           0.013033\n",
      "21) TOV                            0.012922\n",
      "22) FTA                            0.012719\n",
      "23) FT%                            0.012431\n",
      "24) PF                             0.012378\n",
      "25) DRB                            0.012309\n",
      "26) FT                             0.012160\n",
      "27) 2P                             0.012129\n",
      "28) TS%                            0.012046\n",
      "29) eFG%                           0.011967\n",
      "30) ORB                            0.011824\n",
      "31) TRB                            0.011657\n",
      "32) FTPG                           0.011390\n",
      "33) MP                             0.011103\n",
      "34) DRB%                           0.011056\n",
      "35) FTr                            0.011025\n",
      "36) FG%                            0.010799\n",
      "37) Age                            0.010566\n",
      "38) RPG                            0.009923\n",
      "39) 3P%                            0.009868\n",
      "40) ORB%                           0.009286\n",
      "41) G                              0.008838\n",
      "42) STL                            0.008834\n",
      "43) 2P%                            0.008675\n",
      "44) TOV%                           0.008357\n",
      "45) 3PG                            0.008085\n",
      "46) 3P                             0.007670\n",
      "47) 3PAr                           0.007361\n",
      "48) STL%                           0.007327\n",
      "49) 3PA                            0.007324\n",
      "50) TRB%                           0.007319\n",
      "51) BLK                            0.007100\n",
      "52) BLK%                           0.006679\n"
     ]
    },
    {
     "data": {
      "image/png": "[encoded data removed]",
      "text/plain": [
       "<matplotlib.figure.Figure at 0x144b8ef4e10>"
      ]
     },
     "metadata": {},
     "output_type": "display_data"
    }
   ],
   "source": [
    "#find the importance of features by random forest method\n",
    "data_raaw = data_raw.drop(['VoteShare'], axis=1)\n",
    "A, B = data_raaw.iloc[:, 2:-1].values, data_raaw.iloc[:, -1].values\n",
    "from sklearn.ensemble import RandomForestClassifier\n",
    "\n",
    "feat_labels = data_raaw.columns[2:]\n",
    "\n",
    "forest = RandomForestClassifier(n_estimators=500,\n",
    "                                random_state=1)\n",
    "\n",
    "forest.fit(A, B)\n",
    "importances = forest.feature_importances_\n",
    "\n",
    "indices = np.argsort(importances)[::-1]\n",
    "\n",
    "for f in range(A.shape[1]):\n",
    "    print(\"%2d) %-*s %f\" % (f + 1, 30, \n",
    "                            feat_labels[indices[f]], \n",
    "                            importances[indices[f]]))\n",
    "\n",
    "plt.figure(num=1, figsize=(12, 6)) \n",
    "plt.title('Feature Importance-Random Forest')\n",
    "plt.bar(range(A.shape[1]), \n",
    "        importances[indices],\n",
    "        align='center',\n",
    "        #width=0.6,\n",
    "        ec='r', ls='-', lw=1.5)\n",
    "plt.xticks(range(A.shape[1]), \n",
    "           feat_labels[indices], rotation=90)\n",
    "plt.xlim([-1, A.shape[1]])\n",
    "plt.tight_layout()\n",
    "plt.show()"
   ]
  },
  {
   "cell_type": "raw",
   "metadata": {},
   "source": [
    "We are afraid of over-fitting, so we do not want to choose all the features, and we reduce the features to predict MVP.\n",
    "We first use the random-forest method to understand the importance of features, and we found that \n",
    "WS,VORP,WS/48,BPM,PER,W/L%,OWS,OBPM,PTS,DWS,PPG,FG,FGA,AST,APG,AST%,2PA,DBPM,USG%,TOPG,TOV,FTA,FT%,PF,DRB,FT,2P,TS%,eFG%,ORB,TRB,FTPG,MP,DRB%,FTr,FG%,Age  \n",
    "are the features whose importance rate >0.1 .\n",
    "So we will use these 37 features to go on further prediction."
   ]
  },
  {
   "cell_type": "code",
   "execution_count": 20,
   "metadata": {},
   "outputs": [],
   "source": [
    "#Grab the features we want to use\n",
    "data_new = data_raw[['Season','Player','WS','VORP','WS/48','BPM','PER','W/L%','OWS','OBPM','PTS','DWS','PPG','FG','FGA','AST',\n",
    "                     'APG','AST%','2PA','DBPM','USG%','TOPG','TOV','FTA','FT%','PF','DRB','FT','2P','TS%','eFG%','ORB','TRB',\n",
    "                     'FTPG','MP','DRB%','FTr','FG%','Age','MVP']]"
   ]
  },
  {
   "cell_type": "code",
   "execution_count": 21,
   "metadata": {
    "scrolled": true
   },
   "outputs": [
    {
     "data": {
      "text/html": [
       "<div>\n",
       "<style scoped>\n",
       "    .dataframe tbody tr th:only-of-type {\n",
       "        vertical-align: middle;\n",
       "    }\n",
       "\n",
       "    .dataframe tbody tr th {\n",
       "        vertical-align: top;\n",
       "    }\n",
       "\n",
       "    .dataframe thead th {\n",
       "        text-align: right;\n",
       "    }\n",
       "</style>\n",
       "<table border=\"1\" class=\"dataframe\">\n",
       "  <thead>\n",
       "    <tr style=\"text-align: right;\">\n",
       "      <th></th>\n",
       "      <th>Season</th>\n",
       "      <th>Player</th>\n",
       "      <th>WS</th>\n",
       "      <th>VORP</th>\n",
       "      <th>WS/48</th>\n",
       "      <th>BPM</th>\n",
       "      <th>PER</th>\n",
       "      <th>W/L%</th>\n",
       "      <th>OWS</th>\n",
       "      <th>OBPM</th>\n",
       "      <th>...</th>\n",
       "      <th>eFG%</th>\n",
       "      <th>ORB</th>\n",
       "      <th>TRB</th>\n",
       "      <th>FTPG</th>\n",
       "      <th>MP</th>\n",
       "      <th>DRB%</th>\n",
       "      <th>FTr</th>\n",
       "      <th>FG%</th>\n",
       "      <th>Age</th>\n",
       "      <th>MVP</th>\n",
       "    </tr>\n",
       "  </thead>\n",
       "  <tbody>\n",
       "    <tr>\n",
       "      <th>0</th>\n",
       "      <td>1980</td>\n",
       "      <td>Kareem Abdul-Jabbar*</td>\n",
       "      <td>14.3</td>\n",
       "      <td>5.4</td>\n",
       "      <td>0.230</td>\n",
       "      <td>5.3</td>\n",
       "      <td>25.5</td>\n",
       "      <td>0.659</td>\n",
       "      <td>9.6</td>\n",
       "      <td>3.9</td>\n",
       "      <td>...</td>\n",
       "      <td>0.574</td>\n",
       "      <td>197.0</td>\n",
       "      <td>821.0</td>\n",
       "      <td>6.900000</td>\n",
       "      <td>2976.0</td>\n",
       "      <td>21.5</td>\n",
       "      <td>0.379</td>\n",
       "      <td>0.574</td>\n",
       "      <td>33.0</td>\n",
       "      <td>0</td>\n",
       "    </tr>\n",
       "    <tr>\n",
       "      <th>1</th>\n",
       "      <td>1980</td>\n",
       "      <td>Alvan Adams</td>\n",
       "      <td>7.7</td>\n",
       "      <td>3.8</td>\n",
       "      <td>0.180</td>\n",
       "      <td>5.3</td>\n",
       "      <td>20.3</td>\n",
       "      <td>0.695</td>\n",
       "      <td>3.3</td>\n",
       "      <td>2.0</td>\n",
       "      <td>...</td>\n",
       "      <td>0.526</td>\n",
       "      <td>157.0</td>\n",
       "      <td>546.0</td>\n",
       "      <td>3.453333</td>\n",
       "      <td>2054.0</td>\n",
       "      <td>20.5</td>\n",
       "      <td>0.298</td>\n",
       "      <td>0.526</td>\n",
       "      <td>26.0</td>\n",
       "      <td>0</td>\n",
       "    </tr>\n",
       "    <tr>\n",
       "      <th>2</th>\n",
       "      <td>1980</td>\n",
       "      <td>Tiny Archibald*</td>\n",
       "      <td>6.9</td>\n",
       "      <td>0.5</td>\n",
       "      <td>0.118</td>\n",
       "      <td>-1.3</td>\n",
       "      <td>14.3</td>\n",
       "      <td>0.756</td>\n",
       "      <td>4.6</td>\n",
       "      <td>0.4</td>\n",
       "      <td>...</td>\n",
       "      <td>0.499</td>\n",
       "      <td>36.0</td>\n",
       "      <td>176.0</td>\n",
       "      <td>5.237500</td>\n",
       "      <td>2820.0</td>\n",
       "      <td>5.4</td>\n",
       "      <td>0.547</td>\n",
       "      <td>0.499</td>\n",
       "      <td>32.0</td>\n",
       "      <td>0</td>\n",
       "    </tr>\n",
       "    <tr>\n",
       "      <th>3</th>\n",
       "      <td>1980</td>\n",
       "      <td>James Bailey</td>\n",
       "      <td>4.9</td>\n",
       "      <td>1.2</td>\n",
       "      <td>0.094</td>\n",
       "      <td>-0.1</td>\n",
       "      <td>14.5</td>\n",
       "      <td>0.415</td>\n",
       "      <td>1.4</td>\n",
       "      <td>-1.3</td>\n",
       "      <td>...</td>\n",
       "      <td>0.500</td>\n",
       "      <td>192.0</td>\n",
       "      <td>607.0</td>\n",
       "      <td>4.402439</td>\n",
       "      <td>2539.0</td>\n",
       "      <td>17.6</td>\n",
       "      <td>0.406</td>\n",
       "      <td>0.499</td>\n",
       "      <td>23.0</td>\n",
       "      <td>0</td>\n",
       "    </tr>\n",
       "    <tr>\n",
       "      <th>4</th>\n",
       "      <td>1980</td>\n",
       "      <td>Greg Ballard</td>\n",
       "      <td>6.9</td>\n",
       "      <td>3.1</td>\n",
       "      <td>0.127</td>\n",
       "      <td>2.7</td>\n",
       "      <td>16.7</td>\n",
       "      <td>0.476</td>\n",
       "      <td>2.8</td>\n",
       "      <td>0.6</td>\n",
       "      <td>...</td>\n",
       "      <td>0.466</td>\n",
       "      <td>167.0</td>\n",
       "      <td>580.0</td>\n",
       "      <td>2.390244</td>\n",
       "      <td>2610.0</td>\n",
       "      <td>16.8</td>\n",
       "      <td>0.165</td>\n",
       "      <td>0.463</td>\n",
       "      <td>26.0</td>\n",
       "      <td>0</td>\n",
       "    </tr>\n",
       "  </tbody>\n",
       "</table>\n",
       "<p>5 rows × 40 columns</p>\n",
       "</div>"
      ],
      "text/plain": [
       "   Season                Player    WS  VORP  WS/48  BPM   PER   W/L%  OWS  \\\n",
       "0    1980  Kareem Abdul-Jabbar*  14.3   5.4  0.230  5.3  25.5  0.659  9.6   \n",
       "1    1980           Alvan Adams   7.7   3.8  0.180  5.3  20.3  0.695  3.3   \n",
       "2    1980       Tiny Archibald*   6.9   0.5  0.118 -1.3  14.3  0.756  4.6   \n",
       "3    1980          James Bailey   4.9   1.2  0.094 -0.1  14.5  0.415  1.4   \n",
       "4    1980          Greg Ballard   6.9   3.1  0.127  2.7  16.7  0.476  2.8   \n",
       "\n",
       "   OBPM ...    eFG%    ORB    TRB      FTPG      MP  DRB%    FTr    FG%   Age  \\\n",
       "0   3.9 ...   0.574  197.0  821.0  6.900000  2976.0  21.5  0.379  0.574  33.0   \n",
       "1   2.0 ...   0.526  157.0  546.0  3.453333  2054.0  20.5  0.298  0.526  26.0   \n",
       "2   0.4 ...   0.499   36.0  176.0  5.237500  2820.0   5.4  0.547  0.499  32.0   \n",
       "3  -1.3 ...   0.500  192.0  607.0  4.402439  2539.0  17.6  0.406  0.499  23.0   \n",
       "4   0.6 ...   0.466  167.0  580.0  2.390244  2610.0  16.8  0.165  0.463  26.0   \n",
       "\n",
       "   MVP  \n",
       "0    0  \n",
       "1    0  \n",
       "2    0  \n",
       "3    0  \n",
       "4    0  \n",
       "\n",
       "[5 rows x 40 columns]"
      ]
     },
     "execution_count": 21,
     "metadata": {},
     "output_type": "execute_result"
    }
   ],
   "source": [
    "data_new.head(5)"
   ]
  },
  {
   "cell_type": "markdown",
   "metadata": {},
   "source": [
    "# Split Data"
   ]
  },
  {
   "cell_type": "code",
   "execution_count": 22,
   "metadata": {},
   "outputs": [],
   "source": [
    "#train data = 1980~2015 season\n",
    "#test data = 2016 season\n",
    "# If we want to predict other season , just change the season variable\n",
    "# If we want to predict future season, just update the csv file and continuing\n",
    "X, y = data_new.iloc[:, 2:39].values, data_new.iloc[:, 39].values\n",
    "season = 2016\n",
    "X_train = data_new.loc[data_new['Season'] !=season, :].iloc[:, 2:39].values\n",
    "y_train = data_new.loc[data_new['Season'] !=season, :].iloc[:, 39].values\n",
    "X_test = data_new.loc[data_new['Season']==season, :].iloc[:, 2:39].values\n",
    "y_test = data_new.loc[data_new['Season']==season, :].iloc[:, 39].values"
   ]
  },
  {
   "cell_type": "code",
   "execution_count": 23,
   "metadata": {},
   "outputs": [
    {
     "name": "stdout",
     "output_type": "stream",
     "text": [
      "Labels counts in y: [3872   55]\n",
      "Labels counts in y_train: [3770   53]\n",
      "Labels counts in y_test: [102   2]\n"
     ]
    }
   ],
   "source": [
    "print('Labels counts in y:', np.bincount(y))\n",
    "print('Labels counts in y_train:', np.bincount(y_train))\n",
    "print('Labels counts in y_test:', np.bincount(y_test))"
   ]
  },
  {
   "cell_type": "code",
   "execution_count": 24,
   "metadata": {},
   "outputs": [],
   "source": [
    "#standardisize the features\n",
    "from sklearn.preprocessing import StandardScaler\n",
    "\n",
    "stdsc = StandardScaler()\n",
    "X_train_std = stdsc.fit_transform(X_train)\n",
    "X_test_std = stdsc.transform(X_test)"
   ]
  },
  {
   "cell_type": "code",
   "execution_count": 25,
   "metadata": {},
   "outputs": [],
   "source": [
    "#Sequential feature selection algorithms\n",
    "from sklearn.base import clone\n",
    "from itertools import combinations\n",
    "import numpy as np\n",
    "from sklearn.metrics import accuracy_score\n",
    "from sklearn.model_selection import train_test_split\n",
    "\n",
    "\n",
    "class SBS():\n",
    "    def __init__(self, estimator, k_features, scoring=accuracy_score,\n",
    "                 test_size=0.25, random_state=1):\n",
    "        self.scoring = scoring\n",
    "        self.estimator = clone(estimator)\n",
    "        self.k_features = k_features\n",
    "        self.test_size = test_size\n",
    "        self.random_state = random_state\n",
    "\n",
    "    def fit(self, X, y):\n",
    "        \n",
    "        X_train, X_test, y_train, y_test = \\\n",
    "            train_test_split(X, y, test_size=self.test_size,\n",
    "                             random_state=self.random_state)\n",
    "\n",
    "        dim = X_train.shape[1]\n",
    "        self.indices_ = tuple(range(dim))\n",
    "        self.subsets_ = [self.indices_]\n",
    "        score = self._calc_score(X_train, y_train, \n",
    "                                 X_test, y_test, self.indices_)\n",
    "        self.scores_ = [score]\n",
    "\n",
    "        while dim > self.k_features:\n",
    "            scores = []\n",
    "            subsets = []\n",
    "\n",
    "            for p in combinations(self.indices_, r=dim - 1):\n",
    "                score = self._calc_score(X_train, y_train, \n",
    "                                         X_test, y_test, p)\n",
    "                scores.append(score)\n",
    "                subsets.append(p)\n",
    "\n",
    "            best = np.argmax(scores)\n",
    "            self.indices_ = subsets[best]\n",
    "            self.subsets_.append(self.indices_)\n",
    "            dim -= 1\n",
    "\n",
    "            self.scores_.append(scores[best])\n",
    "        self.k_score_ = self.scores_[-1]\n",
    "\n",
    "        return self\n",
    "\n",
    "    def transform(self, X):\n",
    "        return X[:, self.indices_]\n",
    "\n",
    "    def _calc_score(self, X_train, y_train, X_test, y_test, indices):\n",
    "        self.estimator.fit(X_train[:, indices], y_train)\n",
    "        y_pred = self.estimator.predict(X_test[:, indices])\n",
    "        score = self.scoring(y_test, y_pred)\n",
    "        return score"
   ]
  },
  {
   "cell_type": "markdown",
   "metadata": {},
   "source": [
    "# Decision Method"
   ]
  },
  {
   "cell_type": "code",
   "execution_count": 26,
   "metadata": {},
   "outputs": [
    {
     "data": {
      "image/png": "[encoded data removed]",
      "text/plain": [
       "<matplotlib.figure.Figure at 0x144b775bcf8>"
      ]
     },
     "metadata": {},
     "output_type": "display_data"
    }
   ],
   "source": [
    "from sklearn.tree import DecisionTreeClassifier\n",
    "\n",
    "tree = DecisionTreeClassifier(criterion='entropy', \n",
    "                              max_depth=None,\n",
    "                              random_state=1)\n",
    "tree = tree.fit(X_train, y_train)\n",
    "\n",
    "\n",
    "# selecting features\n",
    "sbs = SBS(tree, k_features=1)\n",
    "sbs.fit(X_train_std, y_train)\n",
    "\n",
    "# plotting performance of feature subsets\n",
    "k_feat = [len(k) for k in sbs.subsets_]\n",
    "\n",
    "plt.plot(k_feat, sbs.scores_, marker='o')\n",
    "plt.ylim([0.95, 1.02])\n",
    "plt.ylabel('Accuracy')\n",
    "plt.xlabel('Number of features')\n",
    "plt.grid()\n",
    "plt.tight_layout()\n",
    "plt.show()"
   ]
  },
  {
   "cell_type": "code",
   "execution_count": 27,
   "metadata": {},
   "outputs": [
    {
     "name": "stdout",
     "output_type": "stream",
     "text": [
      "Index(['WS/48', 'PER', 'W/L%', 'PTS', 'APG', 'TOPG'], dtype='object')\n"
     ]
    }
   ],
   "source": [
    "k6 = list(sbs.subsets_[31])\n",
    "print(data_new.columns[2:][k6])"
   ]
  },
  {
   "cell_type": "code",
   "execution_count": 28,
   "metadata": {},
   "outputs": [
    {
     "name": "stdout",
     "output_type": "stream",
     "text": [
      "Training accuracy: 0.986136541982736\n",
      "Test accuracy: 0.9807692307692307\n"
     ]
    }
   ],
   "source": [
    "tree = tree.fit(X_train, y_train)\n",
    "print('Training accuracy:', tree.score(X_train_std, y_train))\n",
    "print('Test accuracy:', tree.score(X_test_std, y_test))"
   ]
  },
  {
   "cell_type": "code",
   "execution_count": 29,
   "metadata": {},
   "outputs": [
    {
     "name": "stdout",
     "output_type": "stream",
     "text": [
      "[[102   0]\n",
      " [  2   0]]\n"
     ]
    }
   ],
   "source": [
    "from sklearn.metrics import confusion_matrix\n",
    "test_pred = tree.predict(X_test)\n",
    "confmat = confusion_matrix(y_true=y_test, y_pred=test_pred)\n",
    "print(confmat)"
   ]
  },
  {
   "cell_type": "code",
   "execution_count": 30,
   "metadata": {},
   "outputs": [
    {
     "data": {
      "image/png": "[encoded data removed]",
      "text/plain": [
       "<matplotlib.figure.Figure at 0x144b9244c18>"
      ]
     },
     "metadata": {},
     "output_type": "display_data"
    }
   ],
   "source": [
    "fig, ax = plt.subplots(figsize=(2.5, 2.5))\n",
    "ax.matshow(confmat, cmap=plt.cm.Blues, alpha=0.3)\n",
    "for i in range(confmat.shape[0]):\n",
    "    for j in range(confmat.shape[1]):\n",
    "        ax.text(x=j, y=i, s=confmat[i, j], va='center', ha='center')\n",
    "\n",
    "plt.xlabel('Predicted label')\n",
    "plt.ylabel('True label')\n",
    "\n",
    "plt.tight_layout()\n",
    "plt.show()"
   ]
  },
  {
   "cell_type": "code",
   "execution_count": 31,
   "metadata": {},
   "outputs": [
    {
     "data": {
      "text/plain": [
       "\"test_pred = tree.predict(X_test)\\ntest_results = pd.DataFrame(data_new.loc[data_new['Season']==season,:].Player)\\ntest_results['MVP'] = test_pred\\ntest_results.sort_values('MVP',ascending=False)\\n\""
      ]
     },
     "execution_count": 31,
     "metadata": {},
     "output_type": "execute_result"
    }
   ],
   "source": [
    "'''test_pred = tree.predict(X_test)\n",
    "test_results = pd.DataFrame(data_new.loc[data_new['Season']==season,:].Player)\n",
    "test_results['MVP'] = test_pred\n",
    "test_results.sort_values('MVP',ascending=False)\n",
    "'''"
   ]
  },
  {
   "cell_type": "code",
   "execution_count": 32,
   "metadata": {},
   "outputs": [
    {
     "data": {
      "text/plain": [
       "Series([], Name: Player, dtype: object)"
      ]
     },
     "execution_count": 32,
     "metadata": {},
     "output_type": "execute_result"
    }
   ],
   "source": [
    "test_pred = tree.predict(X_test)\n",
    "test_results = pd.DataFrame(data_new.loc[data_new['Season']==season,:].Player)\n",
    "test_results['MVP'] = test_pred\n",
    "test_results=test_results['Player'][test_results['MVP']==1]\n",
    "test_results"
   ]
  },
  {
   "cell_type": "markdown",
   "metadata": {},
   "source": [
    "# Random Forest Method"
   ]
  },
  {
   "cell_type": "code",
   "execution_count": 33,
   "metadata": {},
   "outputs": [
    {
     "data": {
      "image/png": "[encoded data removed]",
      "text/plain": [
       "<matplotlib.figure.Figure at 0x144b775b320>"
      ]
     },
     "metadata": {},
     "output_type": "display_data"
    }
   ],
   "source": [
    "from sklearn.ensemble import RandomForestClassifier\n",
    "\n",
    "forest = RandomForestClassifier(criterion='gini',\n",
    "                                n_estimators=50, \n",
    "                                random_state=1,\n",
    "                                n_jobs=2)\n",
    "forest.fit(X_train, y_train)\n",
    "# selecting features\n",
    "\n",
    "sbs = SBS(forest, k_features=1)\n",
    "sbs.fit(X_train_std, y_train)\n",
    "\n",
    "# plotting performance of feature subsets\n",
    "k_feat = [len(k) for k in sbs.subsets_]\n",
    "\n",
    "plt.plot(k_feat, sbs.scores_, marker='o')\n",
    "plt.ylim([0.95, 1.02])\n",
    "plt.ylabel('Accuracy')\n",
    "plt.xlabel('Number of features')\n",
    "plt.grid()\n",
    "plt.tight_layout()\n",
    "plt.show()"
   ]
  },
  {
   "cell_type": "code",
   "execution_count": 34,
   "metadata": {},
   "outputs": [
    {
     "name": "stdout",
     "output_type": "stream",
     "text": [
      "Index(['VORP', 'BPM', 'PER', 'W/L%', 'OBPM', '2PA'], dtype='object')\n"
     ]
    }
   ],
   "source": [
    "k6 = list(sbs.subsets_[31])\n",
    "print(data_new.columns[2:][k6])"
   ]
  },
  {
   "cell_type": "code",
   "execution_count": 35,
   "metadata": {},
   "outputs": [
    {
     "name": "stdout",
     "output_type": "stream",
     "text": [
      "Training accuracy: 0.986136541982736\n",
      "Test accuracy: 0.9807692307692307\n"
     ]
    }
   ],
   "source": [
    "forest = forest.fit(X_train, y_train)\n",
    "print('Training accuracy:', forest.score(X_train_std, y_train))\n",
    "print('Test accuracy:', forest.score(X_test_std, y_test))"
   ]
  },
  {
   "cell_type": "code",
   "execution_count": 36,
   "metadata": {},
   "outputs": [
    {
     "name": "stdout",
     "output_type": "stream",
     "text": [
      "[[102   0]\n",
      " [  2   0]]\n"
     ]
    }
   ],
   "source": [
    "from sklearn.metrics import confusion_matrix\n",
    "test_pred = forest.predict(X_test)\n",
    "confmat = confusion_matrix(y_true=y_test, y_pred=test_pred)\n",
    "print(confmat)"
   ]
  },
  {
   "cell_type": "code",
   "execution_count": 37,
   "metadata": {},
   "outputs": [
    {
     "data": {
      "image/png": "[encoded data removed]",
      "text/plain": [
       "<matplotlib.figure.Figure at 0x144b9553b00>"
      ]
     },
     "metadata": {},
     "output_type": "display_data"
    }
   ],
   "source": [
    "fig, ax = plt.subplots(figsize=(2.5, 2.5))\n",
    "ax.matshow(confmat, cmap=plt.cm.Blues, alpha=0.3)\n",
    "for i in range(confmat.shape[0]):\n",
    "    for j in range(confmat.shape[1]):\n",
    "        ax.text(x=j, y=i, s=confmat[i, j], va='center', ha='center')\n",
    "\n",
    "plt.xlabel('Predicted label')\n",
    "plt.ylabel('True label')\n",
    "\n",
    "plt.tight_layout()\n",
    "plt.show()"
   ]
  },
  {
   "cell_type": "code",
   "execution_count": 38,
   "metadata": {},
   "outputs": [
    {
     "data": {
      "text/plain": [
       "\"\\ntest_pred = forest.predict(X_test)\\ntest_results = pd.DataFrame(data_new.loc[data_new['Season']==season,:].Player)\\ntest_results['MVP'] = test_pred\\ntest_results.sort_values('MVP',ascending=False)\\n\""
      ]
     },
     "execution_count": 38,
     "metadata": {},
     "output_type": "execute_result"
    }
   ],
   "source": [
    "'''\n",
    "test_pred = forest.predict(X_test)\n",
    "test_results = pd.DataFrame(data_new.loc[data_new['Season']==season,:].Player)\n",
    "test_results['MVP'] = test_pred\n",
    "test_results.sort_values('MVP',ascending=False)\n",
    "'''"
   ]
  },
  {
   "cell_type": "code",
   "execution_count": 39,
   "metadata": {},
   "outputs": [
    {
     "data": {
      "text/plain": [
       "Series([], Name: Player, dtype: object)"
      ]
     },
     "execution_count": 39,
     "metadata": {},
     "output_type": "execute_result"
    }
   ],
   "source": [
    "test_pred = forest.predict(X_test)\n",
    "test_results = pd.DataFrame(data_new.loc[data_new['Season']==season,:].Player)\n",
    "test_results['MVP'] = test_pred\n",
    "test_results=test_results['Player'][test_results['MVP']==1]\n",
    "test_results"
   ]
  },
  {
   "cell_type": "markdown",
   "metadata": {},
   "source": [
    "# LinearSVC Method"
   ]
  },
  {
   "cell_type": "code",
   "execution_count": 40,
   "metadata": {},
   "outputs": [
    {
     "data": {
      "image/png": "[encoded data removed]",
      "text/plain": [
       "<matplotlib.figure.Figure at 0x144b8f145c0>"
      ]
     },
     "metadata": {},
     "output_type": "display_data"
    }
   ],
   "source": [
    "from sklearn.svm import LinearSVC\n",
    "clf = LinearSVC()\n",
    "clf.fit(X_train, y_train)\n",
    "\n",
    "# selecting features\n",
    "sbs = SBS(clf, k_features=1)\n",
    "sbs.fit(X_train_std, y_train)\n",
    "\n",
    "# plotting performance of feature subsets\n",
    "k_feat = [len(k) for k in sbs.subsets_]\n",
    "\n",
    "plt.plot(k_feat, sbs.scores_, marker='o')\n",
    "plt.ylim([0.95, 1.02])\n",
    "plt.ylabel('Accuracy')\n",
    "plt.xlabel('Number of features')\n",
    "plt.grid()\n",
    "plt.tight_layout()\n",
    "plt.show()"
   ]
  },
  {
   "cell_type": "code",
   "execution_count": 41,
   "metadata": {},
   "outputs": [
    {
     "name": "stdout",
     "output_type": "stream",
     "text": [
      "Index(['PER', 'W/L%', 'OWS', 'PTS', 'TOPG'], dtype='object')\n"
     ]
    }
   ],
   "source": [
    "k5 = list(sbs.subsets_[32])\n",
    "print(data_new.columns[2:][k5])"
   ]
  },
  {
   "cell_type": "code",
   "execution_count": 42,
   "metadata": {},
   "outputs": [
    {
     "name": "stdout",
     "output_type": "stream",
     "text": [
      "Training accuracy: 0.5056238556107768\n",
      "Test accuracy: 0.5\n"
     ]
    }
   ],
   "source": [
    "clf = clf.fit(X_train, y_train)\n",
    "print('Training accuracy:', clf.score(X_train_std, y_train))\n",
    "print('Test accuracy:', clf.score(X_test_std, y_test))"
   ]
  },
  {
   "cell_type": "code",
   "execution_count": 43,
   "metadata": {},
   "outputs": [
    {
     "name": "stdout",
     "output_type": "stream",
     "text": [
      "[[101   1]\n",
      " [  0   2]]\n"
     ]
    }
   ],
   "source": [
    "from sklearn.metrics import confusion_matrix\n",
    "test_pred = clf.predict(X_test)\n",
    "confmat = confusion_matrix(y_true=y_test, y_pred=test_pred)\n",
    "print(confmat)"
   ]
  },
  {
   "cell_type": "code",
   "execution_count": 44,
   "metadata": {},
   "outputs": [
    {
     "data": {
      "image/png": "[encoded data removed]",
      "text/plain": [
       "<matplotlib.figure.Figure at 0x144b959ac88>"
      ]
     },
     "metadata": {},
     "output_type": "display_data"
    }
   ],
   "source": [
    "fig, ax = plt.subplots(figsize=(2.5, 2.5))\n",
    "ax.matshow(confmat, cmap=plt.cm.Blues, alpha=0.3)\n",
    "for i in range(confmat.shape[0]):\n",
    "    for j in range(confmat.shape[1]):\n",
    "        ax.text(x=j, y=i, s=confmat[i, j], va='center', ha='center')\n",
    "\n",
    "plt.xlabel('Predicted label')\n",
    "plt.ylabel('True label')\n",
    "\n",
    "plt.tight_layout()\n",
    "plt.show()"
   ]
  },
  {
   "cell_type": "code",
   "execution_count": 45,
   "metadata": {},
   "outputs": [
    {
     "data": {
      "text/plain": [
       "3866         James Harden\n",
       "3878         LeBron James\n",
       "3922    Russell Westbrook\n",
       "Name: Player, dtype: object"
      ]
     },
     "execution_count": 45,
     "metadata": {},
     "output_type": "execute_result"
    }
   ],
   "source": [
    "test_pred = clf.predict(X_test)\n",
    "test_results = pd.DataFrame(data_new.loc[data_new['Season']==season,:].Player)\n",
    "test_results['MVP'] = test_pred\n",
    "test_results=test_results['Player'][test_results['MVP']==1]\n",
    "test_results"
   ]
  },
  {
   "cell_type": "markdown",
   "metadata": {},
   "source": [
    "# SMOTE Model"
   ]
  },
  {
   "cell_type": "code",
   "execution_count": 46,
   "metadata": {},
   "outputs": [
    {
     "data": {
      "image/png": "[encoded data removed]",
      "text/plain": [
       "<matplotlib.figure.Figure at 0x144b8f6c4e0>"
      ]
     },
     "metadata": {},
     "output_type": "display_data"
    }
   ],
   "source": [
    "from imblearn.over_sampling import SMOTE\n",
    "X_resampled, y_resampled = SMOTE().fit_sample(X, y)\n",
    "clf_smote = LinearSVC().fit(X_resampled, y_resampled)\n",
    "\n",
    "# selecting features\n",
    "sbs = SBS(clf_smote, k_features=1)\n",
    "sbs.fit(X_train_std, y_train)\n",
    "\n",
    "# plotting performance of feature subsets\n",
    "k_feat = [len(k) for k in sbs.subsets_]\n",
    "\n",
    "plt.plot(k_feat, sbs.scores_, marker='o')\n",
    "plt.ylim([0.95, 1.02])\n",
    "plt.ylabel('Accuracy')\n",
    "plt.xlabel('Number of features')\n",
    "plt.grid()\n",
    "plt.tight_layout()\n",
    "plt.show()\n"
   ]
  },
  {
   "cell_type": "code",
   "execution_count": 47,
   "metadata": {},
   "outputs": [
    {
     "name": "stdout",
     "output_type": "stream",
     "text": [
      "Index(['WS', 'W/L%', 'PPG', 'TOV'], dtype='object')\n"
     ]
    }
   ],
   "source": [
    "k4 = list(sbs.subsets_[33])\n",
    "print(data_new.columns[2:][k4])"
   ]
  },
  {
   "cell_type": "code",
   "execution_count": 48,
   "metadata": {},
   "outputs": [
    {
     "name": "stdout",
     "output_type": "stream",
     "text": [
      "Training accuracy: 0.508239602406487\n",
      "Test accuracy: 0.5\n"
     ]
    }
   ],
   "source": [
    "clf_smote = clf_smote.fit(X_train, y_train)\n",
    "print('Training accuracy:', clf_smote.score(X_train_std, y_train))\n",
    "print('Test accuracy:', clf_smote.score(X_test_std, y_test))"
   ]
  },
  {
   "cell_type": "code",
   "execution_count": 49,
   "metadata": {},
   "outputs": [
    {
     "name": "stdout",
     "output_type": "stream",
     "text": [
      "[[101   1]\n",
      " [  0   2]]\n"
     ]
    }
   ],
   "source": [
    "from sklearn.metrics import confusion_matrix\n",
    "test_pred = clf_smote.predict(X_test)\n",
    "confmat = confusion_matrix(y_true=y_test, y_pred=test_pred)\n",
    "print(confmat)"
   ]
  },
  {
   "cell_type": "code",
   "execution_count": 50,
   "metadata": {},
   "outputs": [
    {
     "data": {
      "image/png": "[encoded data removed]",
      "text/plain": [
       "<matplotlib.figure.Figure at 0x144b93d53c8>"
      ]
     },
     "metadata": {},
     "output_type": "display_data"
    }
   ],
   "source": [
    "fig, ax = plt.subplots(figsize=(2.5, 2.5))\n",
    "ax.matshow(confmat, cmap=plt.cm.Blues, alpha=0.3)\n",
    "for i in range(confmat.shape[0]):\n",
    "    for j in range(confmat.shape[1]):\n",
    "        ax.text(x=j, y=i, s=confmat[i, j], va='center', ha='center')\n",
    "\n",
    "plt.xlabel('Predicted label')\n",
    "plt.ylabel('True label')\n",
    "\n",
    "plt.tight_layout()\n",
    "plt.show()"
   ]
  },
  {
   "cell_type": "code",
   "execution_count": 51,
   "metadata": {},
   "outputs": [
    {
     "data": {
      "text/plain": [
       "3866         James Harden\n",
       "3878         LeBron James\n",
       "3922    Russell Westbrook\n",
       "Name: Player, dtype: object"
      ]
     },
     "execution_count": 51,
     "metadata": {},
     "output_type": "execute_result"
    }
   ],
   "source": [
    "test_pred = clf_smote.predict(X_test)\n",
    "test_results = pd.DataFrame(data_new.loc[data_new['Season']==season,:].Player)\n",
    "test_results['MVP'] = test_pred\n",
    "test_results=test_results['Player'][test_results['MVP']==1]\n",
    "test_results"
   ]
  },
  {
   "cell_type": "markdown",
   "metadata": {},
   "source": [
    "# Bagging Method"
   ]
  },
  {
   "cell_type": "code",
   "execution_count": 52,
   "metadata": {},
   "outputs": [
    {
     "data": {
      "image/png": "[encoded data removed]",
      "text/plain": [
       "<matplotlib.figure.Figure at 0x144b9057198>"
      ]
     },
     "metadata": {},
     "output_type": "display_data"
    }
   ],
   "source": [
    "from sklearn.ensemble import BaggingClassifier\n",
    "from sklearn.tree import DecisionTreeClassifier\n",
    "tree = DecisionTreeClassifier(criterion='entropy', \n",
    "                              max_depth=None,\n",
    "                              random_state=1)\n",
    "\n",
    "bag = BaggingClassifier(base_estimator=tree,\n",
    "                        n_estimators=25, \n",
    "                        max_samples=1.0, \n",
    "                        max_features=1.0, \n",
    "                        bootstrap=True, \n",
    "                        bootstrap_features=False, \n",
    "                        n_jobs=1, \n",
    "                        random_state=1)\n",
    "bag = bag.fit(X_train, y_train)\n",
    "\n",
    "\n",
    "# selecting features\n",
    "sbs = SBS(bag, k_features=1)\n",
    "sbs.fit(X_train_std, y_train)\n",
    "\n",
    "# plotting performance of feature subsets\n",
    "k_feat = [len(k) for k in sbs.subsets_]\n",
    "\n",
    "plt.plot(k_feat, sbs.scores_, marker='o')\n",
    "plt.ylim([0.90, 1.02])\n",
    "plt.ylabel('Accuracy')\n",
    "plt.xlabel('Number of features')\n",
    "plt.grid()\n",
    "plt.tight_layout()\n",
    "plt.show()"
   ]
  },
  {
   "cell_type": "code",
   "execution_count": 53,
   "metadata": {},
   "outputs": [
    {
     "name": "stdout",
     "output_type": "stream",
     "text": [
      "Index(['VORP', 'WS/48', 'W/L%', 'PPG', 'AST%'], dtype='object')\n"
     ]
    }
   ],
   "source": [
    "k5 = list(sbs.subsets_[-5])\n",
    "print(data_new.columns[2:][k5])"
   ]
  },
  {
   "cell_type": "code",
   "execution_count": 54,
   "metadata": {},
   "outputs": [
    {
     "name": "stdout",
     "output_type": "stream",
     "text": [
      "Training accuracy: 0.986136541982736\n",
      "Test accuracy: 0.9807692307692307\n"
     ]
    }
   ],
   "source": [
    "bag = bag.fit(X_train, y_train)\n",
    "print('Training accuracy:', bag.score(X_train_std, y_train))\n",
    "print('Test accuracy:', bag.score(X_test_std, y_test))"
   ]
  },
  {
   "cell_type": "code",
   "execution_count": 55,
   "metadata": {},
   "outputs": [
    {
     "name": "stdout",
     "output_type": "stream",
     "text": [
      "[[102   0]\n",
      " [  2   0]]\n"
     ]
    }
   ],
   "source": [
    "from sklearn.metrics import confusion_matrix\n",
    "test_pred = bag.predict(X_test)\n",
    "confmat = confusion_matrix(y_true=y_test, y_pred=test_pred)\n",
    "print(confmat)"
   ]
  },
  {
   "cell_type": "code",
   "execution_count": 56,
   "metadata": {},
   "outputs": [
    {
     "data": {
      "image/png": "[encoded data removed]",
      "text/plain": [
       "<matplotlib.figure.Figure at 0x144b95ce710>"
      ]
     },
     "metadata": {},
     "output_type": "display_data"
    }
   ],
   "source": [
    "fig, ax = plt.subplots(figsize=(2.5, 2.5))\n",
    "ax.matshow(confmat, cmap=plt.cm.Blues, alpha=0.3)\n",
    "for i in range(confmat.shape[0]):\n",
    "    for j in range(confmat.shape[1]):\n",
    "        ax.text(x=j, y=i, s=confmat[i, j], va='center', ha='center')\n",
    "\n",
    "plt.xlabel('Predicted label')\n",
    "plt.ylabel('True label')\n",
    "\n",
    "plt.tight_layout()\n",
    "plt.show()"
   ]
  },
  {
   "cell_type": "code",
   "execution_count": 57,
   "metadata": {},
   "outputs": [
    {
     "name": "stdout",
     "output_type": "stream",
     "text": [
      "Precision: 0.000\n",
      "Recall: 0.000\n",
      "F1: 0.000\n"
     ]
    },
    {
     "name": "stderr",
     "output_type": "stream",
     "text": [
      "C:\\Users\\yipan\\Anaconda3\\lib\\site-packages\\sklearn\\metrics\\classification.py:1135: UndefinedMetricWarning: Precision is ill-defined and being set to 0.0 due to no predicted samples.\n",
      "  'precision', 'predicted', average, warn_for)\n",
      "C:\\Users\\yipan\\Anaconda3\\lib\\site-packages\\sklearn\\metrics\\classification.py:1135: UndefinedMetricWarning: F-score is ill-defined and being set to 0.0 due to no predicted samples.\n",
      "  'precision', 'predicted', average, warn_for)\n"
     ]
    }
   ],
   "source": [
    "from sklearn.metrics import precision_score, recall_score, f1_score\n",
    "\n",
    "print('Precision: %.3f' % precision_score(y_true=y_test, y_pred=test_pred))\n",
    "print('Recall: %.3f' % recall_score(y_true=y_test, y_pred=test_pred))\n",
    "print('F1: %.3f' % f1_score(y_true=y_test, y_pred=test_pred))\n",
    "\n"
   ]
  },
  {
   "cell_type": "code",
   "execution_count": 58,
   "metadata": {
    "scrolled": true
   },
   "outputs": [
    {
     "data": {
      "text/plain": [
       "Series([], Name: Player, dtype: object)"
      ]
     },
     "execution_count": 58,
     "metadata": {},
     "output_type": "execute_result"
    }
   ],
   "source": [
    "test_pred = bag.predict(X_test)\n",
    "test_results = pd.DataFrame(data_new.loc[data_new['Season']==season,:].Player)\n",
    "test_results['MVP'] = test_pred\n",
    "test_results=test_results['Player'][test_results['MVP']==1]\n",
    "test_results"
   ]
  },
  {
   "cell_type": "markdown",
   "metadata": {},
   "source": [
    "# Conclusion"
   ]
  },
  {
   "cell_type": "raw",
   "metadata": {},
   "source": [
    "I will choose LinearSVC Method as my model to predict MVP.\n",
    "Although the accuracy rate are very high in all method, there are some biases because of the imbalancing data.\n",
    "I faced \"accuracy paradox\" and the outcome of not being MVP is much much more common than being the MVP, so my models is accurate if it just tells everyone they are not going to be MVP. \n",
    "There are some way to improve my model!"
   ]
  },
  {
   "cell_type": "markdown",
   "metadata": {},
   "source": [
    "# Future Improvements"
   ]
  },
  {
   "cell_type": "raw",
   "metadata": {},
   "source": [
    "1. I should not use accuracy-rate as my standard to predict MVP, because the data is so imbalance and I should try out finding minimum false-positive-rate as my standard to predict MVP.\n",
    "\n",
    "2. Maybe increase the MVP=1-class samples by copying the sample to balance the data or use Prototype generation method to generate new samples in order to balance the dataset and then the accuracy-rate can my standard to predict MVP.\n",
    "\n",
    "3.Try out Naive random over-sampling method, random over-sampling to SMOTE method and random over-sampling to ADASYNADASYN method to have a better prediction. "
   ]
  }
 ],
 "metadata": {
  "kernelspec": {
   "display_name": "Python 3",
   "language": "python",
   "name": "python3"
  },
  "language_info": {
   "codemirror_mode": {
    "name": "ipython",
    "version": 3
   },
   "file_extension": ".py",
   "mimetype": "text/x-python",
   "name": "python",
   "nbconvert_exporter": "python",
   "pygments_lexer": "ipython3",
   "version": "3.6.4"
  }
 },
 "nbformat": 4,
 "nbformat_minor": 2
}
